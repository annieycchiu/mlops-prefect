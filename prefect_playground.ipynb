{
 "cells": [
  {
   "cell_type": "code",
   "execution_count": 20,
   "metadata": {},
   "outputs": [
    {
     "data": {
      "text/plain": [
       "UUID('3236e3ae-4b1d-4d59-82fb-30d032ddc4f1')"
      ]
     },
     "execution_count": 20,
     "metadata": {},
     "output_type": "execute_result"
    }
   ],
   "source": [
    "### This Works!!!\n",
    "\n",
    "from prefect.blocks.system import Secret\n",
    "\n",
    "# Save the secret\n",
    "secret_block = Secret(value='BpNmYUxjlVgb88qTtgtQyWask')\n",
    "await secret_block.save(name='socrata-app-token', overwrite=True)\n"
   ]
  },
  {
   "cell_type": "code",
   "execution_count": 23,
   "metadata": {},
   "outputs": [
    {
     "name": "stdout",
     "output_type": "stream",
     "text": [
      "BpNmYUxjlVgb88qTtgtQyWask\n"
     ]
    }
   ],
   "source": [
    "from prefect.blocks.system import Secret\n",
    "\n",
    "# Load the secret\n",
    "secret_block = await Secret.load(\"socrata-app-token\")\n",
    "loaded_secret = secret_block.get()\n",
    "print(loaded_secret)"
   ]
  },
  {
   "cell_type": "code",
   "execution_count": 16,
   "metadata": {},
   "outputs": [
    {
     "data": {
      "text/plain": [
       "'2.20.1'"
      ]
     },
     "execution_count": 16,
     "metadata": {},
     "output_type": "execute_result"
    }
   ],
   "source": [
    "import prefect\n",
    "\n",
    "prefect.__version__"
   ]
  },
  {
   "cell_type": "code",
   "execution_count": 17,
   "metadata": {},
   "outputs": [],
   "source": [
    "from prefect.blocks.system import Secret"
   ]
  },
  {
   "cell_type": "code",
   "execution_count": 15,
   "metadata": {},
   "outputs": [
    {
     "ename": "ValidationError",
     "evalue": "1 validation error for Variable\nvalue\n  str type expected (type=type_error.str)",
     "output_type": "error",
     "traceback": [
      "\u001b[0;31m---------------------------------------------------------------------------\u001b[0m",
      "\u001b[0;31mValidationError\u001b[0m                           Traceback (most recent call last)",
      "Cell \u001b[0;32mIn[15], line 5\u001b[0m\n\u001b[1;32m      1\u001b[0m \u001b[38;5;28;01mfrom\u001b[39;00m \u001b[38;5;21;01mprefect\u001b[39;00m\u001b[38;5;21;01m.\u001b[39;00m\u001b[38;5;21;01mvariables\u001b[39;00m \u001b[38;5;28;01mimport\u001b[39;00m Variable\n\u001b[1;32m      4\u001b[0m \u001b[38;5;66;03m# getting from a synchronous context\u001b[39;00m\n\u001b[0;32m----> 5\u001b[0m answer \u001b[38;5;241m=\u001b[39m \u001b[38;5;28;01mawait\u001b[39;00m Variable\u001b[38;5;241m.\u001b[39mget(\u001b[38;5;124m'\u001b[39m\u001b[38;5;124mlife_everything\u001b[39m\u001b[38;5;124m'\u001b[39m)\n\u001b[1;32m      6\u001b[0m \u001b[38;5;28mprint\u001b[39m(answer\u001b[38;5;241m.\u001b[39mvalue)\n",
      "File \u001b[0;32m~/.pyenv/versions/3.10.10/lib/python3.10/site-packages/prefect/variables.py:88\u001b[0m, in \u001b[0;36mVariable.get\u001b[0;34m(cls, name, default)\u001b[0m\n\u001b[1;32m     69\u001b[0m \u001b[38;5;250m\u001b[39m\u001b[38;5;124;03m\"\"\"\u001b[39;00m\n\u001b[1;32m     70\u001b[0m \u001b[38;5;124;03mGet a variable by name. If doesn't exist return the default.\u001b[39;00m\n\u001b[1;32m     71\u001b[0m \u001b[38;5;124;03m```\u001b[39;00m\n\u001b[0;32m   (...)\u001b[0m\n\u001b[1;32m     85\u001b[0m \u001b[38;5;124;03m```\u001b[39;00m\n\u001b[1;32m     86\u001b[0m \u001b[38;5;124;03m\"\"\"\u001b[39;00m\n\u001b[1;32m     87\u001b[0m client, _ \u001b[38;5;241m=\u001b[39m get_or_create_client()\n\u001b[0;32m---> 88\u001b[0m variable \u001b[38;5;241m=\u001b[39m \u001b[38;5;28;01mawait\u001b[39;00m client\u001b[38;5;241m.\u001b[39mread_variable_by_name(name)\n\u001b[1;32m     89\u001b[0m \u001b[38;5;28;01mreturn\u001b[39;00m variable \u001b[38;5;28;01mif\u001b[39;00m variable \u001b[38;5;28;01melse\u001b[39;00m default\n",
      "File \u001b[0;32m~/.pyenv/versions/3.10.10/lib/python3.10/site-packages/prefect/client/orchestration.py:2977\u001b[0m, in \u001b[0;36mPrefectClient.read_variable_by_name\u001b[0;34m(self, name)\u001b[0m\n\u001b[1;32m   2975\u001b[0m \u001b[38;5;28;01mtry\u001b[39;00m:\n\u001b[1;32m   2976\u001b[0m     response \u001b[38;5;241m=\u001b[39m \u001b[38;5;28;01mawait\u001b[39;00m \u001b[38;5;28mself\u001b[39m\u001b[38;5;241m.\u001b[39m_client\u001b[38;5;241m.\u001b[39mget(\u001b[38;5;124mf\u001b[39m\u001b[38;5;124m\"\u001b[39m\u001b[38;5;124m/variables/name/\u001b[39m\u001b[38;5;132;01m{\u001b[39;00mname\u001b[38;5;132;01m}\u001b[39;00m\u001b[38;5;124m\"\u001b[39m)\n\u001b[0;32m-> 2977\u001b[0m     \u001b[38;5;28;01mreturn\u001b[39;00m \u001b[43mVariable\u001b[49m\u001b[43m(\u001b[49m\u001b[38;5;241;43m*\u001b[39;49m\u001b[38;5;241;43m*\u001b[39;49m\u001b[43mresponse\u001b[49m\u001b[38;5;241;43m.\u001b[39;49m\u001b[43mjson\u001b[49m\u001b[43m(\u001b[49m\u001b[43m)\u001b[49m\u001b[43m)\u001b[49m\n\u001b[1;32m   2978\u001b[0m \u001b[38;5;28;01mexcept\u001b[39;00m httpx\u001b[38;5;241m.\u001b[39mHTTPStatusError \u001b[38;5;28;01mas\u001b[39;00m e:\n\u001b[1;32m   2979\u001b[0m     \u001b[38;5;28;01mif\u001b[39;00m e\u001b[38;5;241m.\u001b[39mresponse\u001b[38;5;241m.\u001b[39mstatus_code \u001b[38;5;241m==\u001b[39m status\u001b[38;5;241m.\u001b[39mHTTP_404_NOT_FOUND:\n",
      "File \u001b[0;32m~/.pyenv/versions/3.10.10/lib/python3.10/site-packages/pydantic/main.py:341\u001b[0m, in \u001b[0;36mpydantic.main.BaseModel.__init__\u001b[0;34m()\u001b[0m\n",
      "\u001b[0;31mValidationError\u001b[0m: 1 validation error for Variable\nvalue\n  str type expected (type=type_error.str)"
     ]
    }
   ],
   "source": [
    "from prefect.variables import Variable\n",
    "\n",
    "\n",
    "# getting from a synchronous context\n",
    "answer = await Variable.get('life_everything')\n",
    "print(answer.value)"
   ]
  },
  {
   "cell_type": "code",
   "execution_count": 13,
   "metadata": {},
   "outputs": [
    {
     "data": {
      "text/plain": [
       "<coroutine object Block.save at 0x150048dd0>"
      ]
     },
     "execution_count": 13,
     "metadata": {},
     "output_type": "execute_result"
    }
   ],
   "source": [
    "from prefect.blocks.system import JSON\n",
    "\n",
    "json_block = JSON(value={\"the_answer\": 42})\n",
    "json_block.save(name=\"life-the-universe-everything\")"
   ]
  },
  {
   "cell_type": "code",
   "execution_count": 10,
   "metadata": {},
   "outputs": [
    {
     "data": {
      "text/plain": [
       "<coroutine object Block.save at 0x150048190>"
      ]
     },
     "execution_count": 10,
     "metadata": {},
     "output_type": "execute_result"
    }
   ],
   "source": [
    "from prefect.blocks.system import Secret\n",
    "\n",
    "# Create a new secret\n",
    "secret = Secret(name=\"MY_SECRET\", value=\"super_secret_value\")\n",
    "secret.save()"
   ]
  },
  {
   "cell_type": "code",
   "execution_count": 7,
   "metadata": {},
   "outputs": [],
   "source": [
    "import pandas as pd\n",
    "data = [\n",
    "        {'name': 'Andy', 'age': '33',},\n",
    "        {'name': 'Bob', 'age': '10',}\n",
    "        ]\n",
    "data = pd.DataFrame(data)"
   ]
  },
  {
   "cell_type": "code",
   "execution_count": 9,
   "metadata": {},
   "outputs": [
    {
     "data": {
      "text/plain": [
       "'Andy,33\\nBob,10\\n'"
      ]
     },
     "execution_count": 9,
     "metadata": {},
     "output_type": "execute_result"
    }
   ],
   "source": [
    "# Path to your CSV file\n",
    "csv_file = 'the_data_2.csv'\n",
    "\n",
    "# Append new data to the CSV file\n",
    "csv_data = data.to_csv(mode='a', index=False, header=False)\n",
    "\n",
    "csv_data"
   ]
  },
  {
   "cell_type": "code",
   "execution_count": 5,
   "metadata": {},
   "outputs": [
    {
     "ename": "AttributeError",
     "evalue": "'coroutine' object has no attribute 'service_account_info'",
     "output_type": "error",
     "traceback": [
      "\u001b[0;31m---------------------------------------------------------------------------\u001b[0m",
      "\u001b[0;31mAttributeError\u001b[0m                            Traceback (most recent call last)",
      "Cell \u001b[0;32mIn[5], line 5\u001b[0m\n\u001b[1;32m      2\u001b[0m gcp_credentials_block \u001b[38;5;241m=\u001b[39m GcpCredentials\u001b[38;5;241m.\u001b[39mload(\u001b[38;5;124m\"\u001b[39m\u001b[38;5;124mmy-cloud-run-pool-push-pool-credentials\u001b[39m\u001b[38;5;124m\"\u001b[39m)\n\u001b[1;32m      4\u001b[0m \u001b[38;5;66;03m# Extract the JSON string from the SecretDict\u001b[39;00m\n\u001b[0;32m----> 5\u001b[0m credentials_info \u001b[38;5;241m=\u001b[39m \u001b[43mgcp_credentials_block\u001b[49m\u001b[38;5;241;43m.\u001b[39;49m\u001b[43mservice_account_info\u001b[49m\u001b[38;5;241m.\u001b[39mget_secret_value()\n\u001b[1;32m      6\u001b[0m credentials_info\n",
      "\u001b[0;31mAttributeError\u001b[0m: 'coroutine' object has no attribute 'service_account_info'"
     ]
    }
   ],
   "source": [
    "from prefect_gcp import GcpCredentials\n",
    "gcp_credentials_block = GcpCredentials.load(\"my-cloud-run-pool-push-pool-credentials\")\n",
    "\n",
    "# Extract the JSON string from the SecretDict\n",
    "credentials_info = gcp_credentials_block.service_account_info.get_secret_value()\n",
    "credentials_info"
   ]
  },
  {
   "cell_type": "code",
   "execution_count": 1,
   "metadata": {},
   "outputs": [
    {
     "data": {
      "text/plain": [
       "<google.oauth2.service_account.Credentials at 0x105b9a950>"
      ]
     },
     "execution_count": 1,
     "metadata": {},
     "output_type": "execute_result"
    }
   ],
   "source": [
    "import os\n",
    "from google.oauth2 import service_account\n",
    "key_path = os.getenv('GCP_ACCESS_KEY') \n",
    "credentials = service_account.Credentials.from_service_account_file(key_path)\n",
    "credentials"
   ]
  },
  {
   "cell_type": "code",
   "execution_count": 6,
   "metadata": {},
   "outputs": [
    {
     "data": {
      "text/plain": [
       "<coroutine object Variable.set at 0x13b4df0d0>"
      ]
     },
     "execution_count": 6,
     "metadata": {},
     "output_type": "execute_result"
    }
   ],
   "source": [
    "from prefect.variables import Variable\n",
    "\n",
    "# Set the variable in Prefect Cloud\n",
    "Variable.set(name=\"my_variable\", value=\"some_value\")"
   ]
  },
  {
   "cell_type": "code",
   "execution_count": 5,
   "metadata": {},
   "outputs": [
    {
     "data": {
      "text/plain": [
       "<prefect.client.orchestration.PrefectClient at 0x13b41ecb0>"
      ]
     },
     "execution_count": 5,
     "metadata": {},
     "output_type": "execute_result"
    }
   ],
   "source": [
    "from prefect.client import get_client\n",
    "get_client()"
   ]
  },
  {
   "cell_type": "code",
   "execution_count": 4,
   "metadata": {},
   "outputs": [
    {
     "name": "stderr",
     "output_type": "stream",
     "text": [
      "/var/folders/0d/9xk1njx10y7ftjfbgf9nsjc00000gn/T/ipykernel_27522/666501201.py:4: RuntimeWarning: coroutine 'Variable.set' was never awaited\n",
      "  variable = Variable.set(name=\"the_answer\", value=\"42\")\n",
      "RuntimeWarning: Enable tracemalloc to get the object allocation traceback\n"
     ]
    },
    {
     "data": {
      "text/plain": [
       "<coroutine object Variable.set at 0x13b4de6c0>"
      ]
     },
     "execution_count": 4,
     "metadata": {},
     "output_type": "execute_result"
    }
   ],
   "source": [
    "from prefect.variables import Variable\n",
    "\n",
    "# setting the variable\n",
    "variable = Variable.set(name=\"the_answer\", value=\"42\")\n",
    "variable"
   ]
  },
  {
   "cell_type": "code",
   "execution_count": 2,
   "metadata": {},
   "outputs": [
    {
     "data": {
      "text/plain": [
       "PosixPath('/Users/annieyuchuan/.prefect')"
      ]
     },
     "execution_count": 2,
     "metadata": {},
     "output_type": "execute_result"
    }
   ],
   "source": [
    "import prefect.settings\n",
    "prefect.settings.PREFECT_HOME.value()"
   ]
  },
  {
   "cell_type": "code",
   "execution_count": 4,
   "metadata": {},
   "outputs": [
    {
     "ename": "RuntimeError",
     "evalue": "asyncio.run() cannot be called from a running event loop",
     "output_type": "error",
     "traceback": [
      "\u001b[0;31m---------------------------------------------------------------------------\u001b[0m",
      "\u001b[0;31mRuntimeError\u001b[0m                              Traceback (most recent call last)",
      "Cell \u001b[0;32mIn[4], line 8\u001b[0m\n\u001b[1;32m      5\u001b[0m     gcp_credentials_block \u001b[38;5;241m=\u001b[39m \u001b[38;5;28;01mawait\u001b[39;00m GcpCredentials\u001b[38;5;241m.\u001b[39mload(\u001b[38;5;124m\"\u001b[39m\u001b[38;5;124mmy-cloud-run-pool-push-pool-credentials\u001b[39m\u001b[38;5;124m\"\u001b[39m)\n\u001b[1;32m      6\u001b[0m     \u001b[38;5;28;01mreturn\u001b[39;00m gcp_credentials_block\u001b[38;5;241m.\u001b[39mproject_id\n\u001b[0;32m----> 8\u001b[0m project_id \u001b[38;5;241m=\u001b[39m \u001b[43masyncio\u001b[49m\u001b[38;5;241;43m.\u001b[39;49m\u001b[43mrun\u001b[49m\u001b[43m(\u001b[49m\u001b[43mload_credentials\u001b[49m\u001b[43m(\u001b[49m\u001b[43m)\u001b[49m\u001b[43m)\u001b[49m\n",
      "File \u001b[0;32m~/.pyenv/versions/3.10.10/lib/python3.10/asyncio/runners.py:33\u001b[0m, in \u001b[0;36mrun\u001b[0;34m(main, debug)\u001b[0m\n\u001b[1;32m      9\u001b[0m \u001b[38;5;250m\u001b[39m\u001b[38;5;124;03m\"\"\"Execute the coroutine and return the result.\u001b[39;00m\n\u001b[1;32m     10\u001b[0m \n\u001b[1;32m     11\u001b[0m \u001b[38;5;124;03mThis function runs the passed coroutine, taking care of\u001b[39;00m\n\u001b[0;32m   (...)\u001b[0m\n\u001b[1;32m     30\u001b[0m \u001b[38;5;124;03m    asyncio.run(main())\u001b[39;00m\n\u001b[1;32m     31\u001b[0m \u001b[38;5;124;03m\"\"\"\u001b[39;00m\n\u001b[1;32m     32\u001b[0m \u001b[38;5;28;01mif\u001b[39;00m events\u001b[38;5;241m.\u001b[39m_get_running_loop() \u001b[38;5;129;01mis\u001b[39;00m \u001b[38;5;129;01mnot\u001b[39;00m \u001b[38;5;28;01mNone\u001b[39;00m:\n\u001b[0;32m---> 33\u001b[0m     \u001b[38;5;28;01mraise\u001b[39;00m \u001b[38;5;167;01mRuntimeError\u001b[39;00m(\n\u001b[1;32m     34\u001b[0m         \u001b[38;5;124m\"\u001b[39m\u001b[38;5;124masyncio.run() cannot be called from a running event loop\u001b[39m\u001b[38;5;124m\"\u001b[39m)\n\u001b[1;32m     36\u001b[0m \u001b[38;5;28;01mif\u001b[39;00m \u001b[38;5;129;01mnot\u001b[39;00m coroutines\u001b[38;5;241m.\u001b[39miscoroutine(main):\n\u001b[1;32m     37\u001b[0m     \u001b[38;5;28;01mraise\u001b[39;00m \u001b[38;5;167;01mValueError\u001b[39;00m(\u001b[38;5;124m\"\u001b[39m\u001b[38;5;124ma coroutine was expected, got \u001b[39m\u001b[38;5;132;01m{!r}\u001b[39;00m\u001b[38;5;124m\"\u001b[39m\u001b[38;5;241m.\u001b[39mformat(main))\n",
      "\u001b[0;31mRuntimeError\u001b[0m: asyncio.run() cannot be called from a running event loop"
     ]
    }
   ],
   "source": [
    "import asyncio\n",
    "from prefect_gcp import GcpCredentials\n",
    "\n",
    "async def load_credentials():\n",
    "    gcp_credentials_block = await GcpCredentials.load(\"my-cloud-run-pool-push-pool-credentials\")\n",
    "    return gcp_credentials_block.project_id\n",
    "\n",
    "project_id = asyncio.run(load_credentials())"
   ]
  },
  {
   "cell_type": "code",
   "execution_count": 3,
   "metadata": {},
   "outputs": [
    {
     "name": "stderr",
     "output_type": "stream",
     "text": [
      "/var/folders/0d/9xk1njx10y7ftjfbgf9nsjc00000gn/T/ipykernel_90519/2938478317.py:2: RuntimeWarning: coroutine 'Block.load' was never awaited\n",
      "  gcp_credentials_block = GcpCredentials.load(\"my-cloud-run-pool-push-pool-credentials\")\n",
      "RuntimeWarning: Enable tracemalloc to get the object allocation traceback\n"
     ]
    },
    {
     "ename": "AttributeError",
     "evalue": "'coroutine' object has no attribute 'project_id'",
     "output_type": "error",
     "traceback": [
      "\u001b[0;31m---------------------------------------------------------------------------\u001b[0m",
      "\u001b[0;31mAttributeError\u001b[0m                            Traceback (most recent call last)",
      "Cell \u001b[0;32mIn[3], line 3\u001b[0m\n\u001b[1;32m      1\u001b[0m \u001b[38;5;28;01mfrom\u001b[39;00m \u001b[38;5;21;01mprefect_gcp\u001b[39;00m \u001b[38;5;28;01mimport\u001b[39;00m GcpCredentials\n\u001b[1;32m      2\u001b[0m gcp_credentials_block \u001b[38;5;241m=\u001b[39m GcpCredentials\u001b[38;5;241m.\u001b[39mload(\u001b[38;5;124m\"\u001b[39m\u001b[38;5;124mmy-cloud-run-pool-push-pool-credentials\u001b[39m\u001b[38;5;124m\"\u001b[39m)\n\u001b[0;32m----> 3\u001b[0m \u001b[43mgcp_credentials_block\u001b[49m\u001b[38;5;241;43m.\u001b[39;49m\u001b[43mproject_id\u001b[49m\n",
      "\u001b[0;31mAttributeError\u001b[0m: 'coroutine' object has no attribute 'project_id'"
     ]
    }
   ],
   "source": [
    "from prefect_gcp import GcpCredentials\n",
    "gcp_credentials_block = GcpCredentials.load(\"my-cloud-run-pool-push-pool-credentials\")\n",
    "gcp_credentials_block.project_id"
   ]
  },
  {
   "cell_type": "code",
   "execution_count": 1,
   "metadata": {},
   "outputs": [],
   "source": [
    "import pandas as pd\n",
    "from datetime import date, timedelta, datetime\n",
    "\n",
    "from sodapy import Socrata\n",
    "\n",
    "from prefect import task, Flow\n",
    "from prefect.client.schemas.schedules import IntervalSchedule, CronSchedule\n",
    "\n",
    "from google.cloud import bigquery\n",
    "from google.oauth2 import service_account\n",
    "\n",
    "import os\n",
    "from dotenv import load_dotenv"
   ]
  },
  {
   "cell_type": "code",
   "execution_count": 11,
   "metadata": {},
   "outputs": [],
   "source": [
    "def fetch_data(wrong_data=123):\n",
    "    data = [\n",
    "        {'name': 'Andy', 'age': '33', 'time': datetime.now(), 'random': wrong_data},\n",
    "        {'name': 'Bob', 'age': '10', 'time': datetime.now(), 'wrong': wrong_data},\n",
    "        ]\n",
    "    \n",
    "    return data\n",
    "def transform_data(data):\n",
    "    needed_keys = ['name', 'age', 'time']\n",
    "\n",
    "    filtered_data = []\n",
    "    for d in data:\n",
    "        filtered_dict = {} \n",
    "        for k, v in d.items():\n",
    "            if k in needed_keys: \n",
    "                if v is not None and not isinstance(v, str):\n",
    "                    v = str(v)\n",
    "                filtered_dict[k] = v \n",
    "        filtered_data.append(filtered_dict) \n",
    "    return filtered_data\n",
    "\n",
    "def save_data(data):\n",
    "    data = pd.DataFrame(data)\n",
    "    \n",
    "    # Path to your CSV file\n",
    "    csv_file = 'the_data.csv'\n",
    "\n",
    "    # Append new data to the CSV file\n",
    "    data.to_csv(csv_file, mode='a', index=False, header=False)"
   ]
  },
  {
   "cell_type": "code",
   "execution_count": 12,
   "metadata": {},
   "outputs": [],
   "source": [
    "data = fetch_data()\n",
    "filtered_data = transform_data(data)\n",
    "new_data = pd.DataFrame(filtered_data)\n",
    "save_data(new_data)"
   ]
  },
  {
   "cell_type": "code",
   "execution_count": 9,
   "metadata": {},
   "outputs": [],
   "source": []
  },
  {
   "cell_type": "code",
   "execution_count": 33,
   "metadata": {},
   "outputs": [
    {
     "data": {
      "text/plain": [
       "'BpNmYUxjlVgb88qTtgtQyWask'"
      ]
     },
     "execution_count": 33,
     "metadata": {},
     "output_type": "execute_result"
    }
   ],
   "source": [
    "# Load environment variables from .env file\n",
    "load_dotenv()\n",
    "\n",
    "os.getenv('SOCRATA_APP_TOKEN')"
   ]
  },
  {
   "cell_type": "code",
   "execution_count": 20,
   "metadata": {},
   "outputs": [],
   "source": [
    "# Load environment variables from .env file\n",
    "load_dotenv()\n",
    "\n",
    "# set up Socrata client\n",
    "socrata_client = Socrata(\n",
    "    'data.sfgov.org',\n",
    "    app_token=os.getenv('SOCRATA_APP_TOKEN'),\n",
    "    username=os.getenv('SOCRATA_USERNAME'),\n",
    "    password=os.getenv('SOCRATA_PASSWORD')\n",
    "    )\n",
    "\n",
    "# set up BigQuery client\n",
    "# Path to your service account key file\n",
    "key_path = \"/Users/annieyuchuan/Desktop/mlops-exploration/mlops-dbt/my_first_dbt_project_local/my-dbt-sa-local-key.json\"\n",
    "\n",
    "# Create credentials using the service account key file\n",
    "credentials = service_account.Credentials.from_service_account_file(key_path)\n",
    "\n",
    "# Initialize the BigQuery client with the credentials\n",
    "bigquery_client = bigquery.Client(\n",
    "    credentials=credentials, \n",
    "    project=credentials.project_id\n",
    "    )"
   ]
  },
  {
   "cell_type": "code",
   "execution_count": 21,
   "metadata": {},
   "outputs": [
    {
     "name": "stdout",
     "output_type": "stream",
     "text": [
      "311_data\n",
      "gaming\n",
      "names\n"
     ]
    }
   ],
   "source": [
    "# Example operation: listing tables in a dataset\n",
    "dataset_id = \"test_dataset\"\n",
    "tables = bigquery_client.list_tables(dataset_id)\n",
    "\n",
    "for table in tables:\n",
    "    print(table.table_id)"
   ]
  },
  {
   "cell_type": "code",
   "execution_count": 22,
   "metadata": {},
   "outputs": [],
   "source": [
    "def fetch_data(client, data_limit=100):\n",
    "    # fetch 311 data\n",
    "    data = client.get(\n",
    "        dataset_identifier='vw6y-z8j6', \n",
    "        limit=data_limit)\n",
    "    \n",
    "    return data"
   ]
  },
  {
   "cell_type": "code",
   "execution_count": 23,
   "metadata": {},
   "outputs": [],
   "source": [
    "def transform_data(data):\n",
    "    needed_keys = [\n",
    "        'service_request_id', 'requested_datetime', 'closed_date', 'updated_datetime', 'status_description', 'status_notes',\n",
    "        'agency_responsible', 'service_name', 'service_subtype', 'service_details', 'address', 'street', 'supervisor_district',\n",
    "        'neighborhoods_sffind_boundaries', 'police_district', 'lat', 'long', 'source'\n",
    "    ]\n",
    "\n",
    "    # 1. get the interpretable data by keys\n",
    "    # 2. convert the datatype of values to string\n",
    "    filtered_data = []\n",
    "    for d in data:\n",
    "        filtered_dict = {} \n",
    "        for k, v in d.items():\n",
    "            if k in needed_keys: \n",
    "                if v is not None and not isinstance(v, str):\n",
    "                    v = str(v)\n",
    "                filtered_dict[k] = v \n",
    "        filtered_data.append(filtered_dict) \n",
    "\n",
    "    return filtered_data"
   ]
  },
  {
   "cell_type": "code",
   "execution_count": 24,
   "metadata": {},
   "outputs": [],
   "source": [
    "def insert_record_one_by_one(client, table_id, records):\n",
    "    failed_records = []\n",
    "    \n",
    "    for record in records:\n",
    "        # Insert a single record into BigQuery\n",
    "        errors = client.insert_rows_json(table_id, [record])\n",
    "        \n",
    "        if errors:\n",
    "            # Append the record and errors to the failed_records list\n",
    "            failed_records.append({'record': record, 'errors': errors})\n",
    "        else:\n",
    "            print(f\"Record inserted successfully: {record}\")\n",
    "\n",
    "    return failed_records\n",
    "\n",
    "def load_data_to_bigquery(client, data):\n",
    "    table_id = 'my-tenth-project-432516.test_dataset.311_data'\n",
    "    \n",
    "    # Insert records and get failed records\n",
    "    failed_records = insert_record_one_by_one(client, table_id, data)\n",
    "    \n",
    "    # Generate a report of failed records\n",
    "    if failed_records:\n",
    "        with open('failed_records_report.txt', 'w') as f:\n",
    "            for entry in failed_records:\n",
    "                f.write(f\"Record: {entry['record']}\\n\")\n",
    "                f.write(f\"Errors: {entry['errors']}\\n\")\n",
    "                f.write(\"\\n---\\n\\n\")\n",
    "        print(\"Report of failed records has been written to 'failed_records_report.txt'.\")\n",
    "    else:\n",
    "        print(\"All records were inserted successfully.\")\n"
   ]
  },
  {
   "cell_type": "code",
   "execution_count": null,
   "metadata": {},
   "outputs": [],
   "source": []
  },
  {
   "cell_type": "code",
   "execution_count": 25,
   "metadata": {},
   "outputs": [
    {
     "data": {
      "text/plain": [
       "{'service_request_id': '1000040',\n",
       " 'requested_datetime': '2011-11-08T10:10:55.000',\n",
       " 'closed_date': '2011-11-11T06:07:07.000',\n",
       " 'updated_datetime': '2011-11-11T06:07:07.000',\n",
       " 'status_description': 'Closed',\n",
       " 'status_notes': 'See Notes tab for more details',\n",
       " 'agency_responsible': 'DPW Ops Queue',\n",
       " 'service_name': 'Street and Sidewalk Cleaning',\n",
       " 'service_subtype': 'General Cleaning',\n",
       " 'service_details': 'Other Loose Garbage',\n",
       " 'address': 'Not associated with a specific address',\n",
       " 'lat': '0.0',\n",
       " 'long': '0.0',\n",
       " 'source': 'Web'}"
      ]
     },
     "execution_count": 25,
     "metadata": {},
     "output_type": "execute_result"
    }
   ],
   "source": [
    "data_limit=10\n",
    "data = fetch_data(socrata_client, data_limit)\n",
    "transformed_data = transform_data(data)\n",
    "transformed_data[0]"
   ]
  },
  {
   "cell_type": "code",
   "execution_count": 26,
   "metadata": {},
   "outputs": [
    {
     "name": "stdout",
     "output_type": "stream",
     "text": [
      "Record inserted successfully: {'service_request_id': '1000040', 'requested_datetime': '2011-11-08T10:10:55.000', 'closed_date': '2011-11-11T06:07:07.000', 'updated_datetime': '2011-11-11T06:07:07.000', 'status_description': 'Closed', 'status_notes': 'See Notes tab for more details', 'agency_responsible': 'DPW Ops Queue', 'service_name': 'Street and Sidewalk Cleaning', 'service_subtype': 'General Cleaning', 'service_details': 'Other Loose Garbage', 'address': 'Not associated with a specific address', 'lat': '0.0', 'long': '0.0', 'source': 'Web'}\n",
      "Record inserted successfully: {'service_request_id': '1000203', 'requested_datetime': '2011-11-08T12:12:49.000', 'closed_date': '2011-11-08T13:07:08.000', 'updated_datetime': '2011-11-08T13:07:08.000', 'status_description': 'Closed', 'status_notes': 'See Notes tab for more details', 'agency_responsible': 'DPW Ops Queue', 'service_name': 'Street and Sidewalk Cleaning', 'service_subtype': 'General Cleaning', 'service_details': 'Other Loose Garbage', 'address': 'Not associated with a specific address', 'lat': '0.0', 'long': '0.0', 'source': 'Phone'}\n",
      "Record inserted successfully: {'service_request_id': '1000266', 'requested_datetime': '2011-11-08T13:28:24.000', 'closed_date': '2011-11-09T06:07:22.000', 'updated_datetime': '2011-11-09T06:07:22.000', 'status_description': 'Closed', 'status_notes': 'See Notes tab for more details', 'agency_responsible': 'DPW Ops Queue', 'service_name': 'Street and Sidewalk Cleaning', 'service_subtype': 'General Cleaning', 'service_details': 'Other Loose Garbage', 'address': 'Not associated with a specific address', 'lat': '0.0', 'long': '0.0', 'source': 'Web'}\n",
      "Record inserted successfully: {'service_request_id': '1000532', 'requested_datetime': '2011-11-08T18:46:38.000', 'closed_date': '2011-11-10T07:03:29.000', 'updated_datetime': '2011-11-10T07:03:29.000', 'status_description': 'Closed', 'status_notes': 'Case Transferred - PSR 399382', 'agency_responsible': 'SSP - MTA Feedback Queue', 'service_name': 'MUNI Feedback', 'service_subtype': 'MUNI  - Services_Miscellaneous', 'service_details': '801_NextMuni_Technology', 'address': 'Not associated with a specific address', 'lat': '0.0', 'long': '0.0', 'source': 'Web'}\n",
      "Record inserted successfully: {'service_request_id': '1000605', 'requested_datetime': '2011-11-08T23:58:51.000', 'closed_date': '2011-11-22T08:18:15.000', 'updated_datetime': '2011-11-22T08:18:15.000', 'status_description': 'Closed', 'status_notes': 'Case Resolved', 'agency_responsible': 'Elections - G', 'service_name': 'General Request - ELECTIONS', 'service_subtype': 'complaint', 'service_details': 'elections - complaint', 'address': 'Not associated with a specific address', 'lat': '0.0', 'long': '0.0', 'source': 'Phone'}\n",
      "Record inserted successfully: {'service_request_id': '1000627', 'requested_datetime': '2011-11-09T06:51:28.000', 'closed_date': '2011-11-09T11:53:53.000', 'updated_datetime': '2011-11-09T11:53:53.000', 'status_description': 'Closed', 'status_notes': 'Case Transferred - 399348', 'agency_responsible': 'MUNI Work Queue', 'service_name': 'MUNI Feedback', 'service_subtype': 'MUNI - Services_Miscellaneous', 'service_details': '801_NextMuni_Technology', 'address': 'Not associated with a specific address', 'lat': '0.0', 'long': '0.0', 'source': 'Phone'}\n",
      "Record inserted successfully: {'service_request_id': '1000822', 'requested_datetime': '2011-11-09T09:55:10.000', 'closed_date': '2011-11-09T17:27:40.000', 'updated_datetime': '2011-11-09T17:27:40.000', 'status_description': 'Closed', 'status_notes': 'Case Transferred - reported to dispatch Presidio police  11-9-11 @ 1727 hrs', 'agency_responsible': 'DPT Abandoned Vehicles Work Queue', 'service_name': 'Abandoned Vehicle', 'service_subtype': 'SSP Abandoned Vehicles', 'service_details': 'green - Ford - Mustang - 5zbu085', 'address': 'Not associated with a specific address', 'lat': '0.0', 'long': '0.0', 'source': 'Web'}\n",
      "Record inserted successfully: {'service_request_id': '1000877', 'requested_datetime': '2011-11-09T10:56:44.000', 'closed_date': '2012-01-09T00:01:03.000', 'updated_datetime': '2012-01-09T00:01:03.000', 'status_description': 'Closed', 'agency_responsible': 'DPT Color Curb Queue', 'service_name': 'Color Curb', 'service_subtype': 'Red_Fee Color Curb Request', 'service_details': 'Red_Fee', 'address': 'Not associated with a specific address', 'lat': '0.0', 'long': '0.0', 'source': 'Phone'}\n",
      "Record inserted successfully: {'service_request_id': '1000918', 'requested_datetime': '2011-11-09T11:26:58.000', 'closed_date': '2011-11-09T16:07:35.000', 'updated_datetime': '2011-11-09T16:07:35.000', 'status_description': 'Closed', 'status_notes': 'Case Resolved - see notes.', 'agency_responsible': '311 Supervisor Queue', 'service_name': 'Blocked Street or SideWalk', 'service_subtype': 'Blocked_Sidewalk', 'service_details': 'Display_merchandise blocking sidewalk', 'address': 'Not associated with a specific address', 'lat': '0.0', 'long': '0.0', 'source': 'Web'}\n",
      "Record inserted successfully: {'service_request_id': '1000997', 'requested_datetime': '2011-11-09T13:00:54.000', 'closed_date': '2011-11-14T10:09:37.000', 'updated_datetime': '2011-11-14T10:09:37.000', 'status_description': 'Closed', 'status_notes': 'Case Resolved - Emailed', 'agency_responsible': 'SFMTA - SFpark Queue', 'service_name': 'General Request - MTA', 'service_subtype': 'customer_callback', 'service_details': 'parking_sfpark - customer_callback', 'address': 'Not associated with a specific address', 'lat': '0.0', 'long': '0.0', 'source': 'Web'}\n",
      "All records were inserted successfully.\n"
     ]
    }
   ],
   "source": [
    "load_data_to_bigquery(bigquery_client, transformed_data)"
   ]
  },
  {
   "cell_type": "code",
   "execution_count": null,
   "metadata": {},
   "outputs": [],
   "source": []
  },
  {
   "cell_type": "code",
   "execution_count": null,
   "metadata": {},
   "outputs": [],
   "source": []
  },
  {
   "cell_type": "code",
   "execution_count": null,
   "metadata": {},
   "outputs": [],
   "source": []
  },
  {
   "cell_type": "markdown",
   "metadata": {},
   "source": [
    "# Create sample data"
   ]
  },
  {
   "cell_type": "code",
   "execution_count": null,
   "metadata": {},
   "outputs": [],
   "source": [
    "# pd.read_csv(\"/Users/annieyuchuan/Downloads/311_Cases_20240815.csv\").head().to_csv(\"data/311_samples.csv\", index=False)"
   ]
  },
  {
   "cell_type": "code",
   "execution_count": null,
   "metadata": {},
   "outputs": [
    {
     "data": {
      "text/html": [
       "<div>\n",
       "<style scoped>\n",
       "    .dataframe tbody tr th:only-of-type {\n",
       "        vertical-align: middle;\n",
       "    }\n",
       "\n",
       "    .dataframe tbody tr th {\n",
       "        vertical-align: top;\n",
       "    }\n",
       "\n",
       "    .dataframe thead th {\n",
       "        text-align: right;\n",
       "    }\n",
       "</style>\n",
       "<table border=\"1\" class=\"dataframe\">\n",
       "  <thead>\n",
       "    <tr style=\"text-align: right;\">\n",
       "      <th></th>\n",
       "      <th>CaseID</th>\n",
       "      <th>Opened</th>\n",
       "      <th>Closed</th>\n",
       "      <th>Updated</th>\n",
       "      <th>Status</th>\n",
       "      <th>Status Notes</th>\n",
       "      <th>Responsible Agency</th>\n",
       "      <th>Category</th>\n",
       "      <th>Request Type</th>\n",
       "      <th>Request Details</th>\n",
       "      <th>...</th>\n",
       "      <th>DELETE - HSOC Zones</th>\n",
       "      <th>Fix It Zones as of 2018-02-07</th>\n",
       "      <th>CBD, BID and GBD Boundaries as of 2017</th>\n",
       "      <th>Central Market/Tenderloin Boundary</th>\n",
       "      <th>Areas of Vulnerability, 2016</th>\n",
       "      <th>Central Market/Tenderloin Boundary Polygon - Updated</th>\n",
       "      <th>HSOC Zones as of 2018-06-05</th>\n",
       "      <th>OWED Public Spaces</th>\n",
       "      <th>Parks Alliance CPSI (27+TL sites)</th>\n",
       "      <th>Neighborhoods</th>\n",
       "    </tr>\n",
       "  </thead>\n",
       "  <tbody>\n",
       "    <tr>\n",
       "      <th>0</th>\n",
       "      <td>16987193</td>\n",
       "      <td>07/01/2023 03:44:00 PM</td>\n",
       "      <td>07/04/2023 10:29:00 AM</td>\n",
       "      <td>07/04/2023 10:29:00 AM</td>\n",
       "      <td>Closed</td>\n",
       "      <td>Case Resolved</td>\n",
       "      <td>DPW Ops Queue</td>\n",
       "      <td>Street and Sidewalk Cleaning</td>\n",
       "      <td>Bulky Items</td>\n",
       "      <td>Boxed or Bagged Items</td>\n",
       "      <td>...</td>\n",
       "      <td>NaN</td>\n",
       "      <td>NaN</td>\n",
       "      <td>NaN</td>\n",
       "      <td>NaN</td>\n",
       "      <td>1.0</td>\n",
       "      <td>NaN</td>\n",
       "      <td>NaN</td>\n",
       "      <td>NaN</td>\n",
       "      <td>NaN</td>\n",
       "      <td>105.0</td>\n",
       "    </tr>\n",
       "    <tr>\n",
       "      <th>1</th>\n",
       "      <td>16987195</td>\n",
       "      <td>07/01/2023 03:44:00 PM</td>\n",
       "      <td>07/02/2023 04:30:33 PM</td>\n",
       "      <td>07/02/2023 04:30:33 PM</td>\n",
       "      <td>Closed</td>\n",
       "      <td>Case Resolved - Pickup completed</td>\n",
       "      <td>Recology_Overflowing</td>\n",
       "      <td>Street and Sidewalk Cleaning</td>\n",
       "      <td>City_garbage_can_overflowing</td>\n",
       "      <td>City_garbage_can_overflowing</td>\n",
       "      <td>...</td>\n",
       "      <td>NaN</td>\n",
       "      <td>NaN</td>\n",
       "      <td>NaN</td>\n",
       "      <td>NaN</td>\n",
       "      <td>1.0</td>\n",
       "      <td>NaN</td>\n",
       "      <td>NaN</td>\n",
       "      <td>NaN</td>\n",
       "      <td>NaN</td>\n",
       "      <td>84.0</td>\n",
       "    </tr>\n",
       "    <tr>\n",
       "      <th>2</th>\n",
       "      <td>16987192</td>\n",
       "      <td>07/01/2023 03:44:08 PM</td>\n",
       "      <td>07/02/2023 04:24:36 PM</td>\n",
       "      <td>07/02/2023 04:24:36 PM</td>\n",
       "      <td>Closed</td>\n",
       "      <td>Case Resolved - Pickup completed</td>\n",
       "      <td>Recology_Overflowing</td>\n",
       "      <td>Street and Sidewalk Cleaning</td>\n",
       "      <td>City_garbage_can_overflowing</td>\n",
       "      <td>City_garbage_can_overflowing</td>\n",
       "      <td>...</td>\n",
       "      <td>NaN</td>\n",
       "      <td>25.0</td>\n",
       "      <td>NaN</td>\n",
       "      <td>NaN</td>\n",
       "      <td>1.0</td>\n",
       "      <td>NaN</td>\n",
       "      <td>NaN</td>\n",
       "      <td>NaN</td>\n",
       "      <td>NaN</td>\n",
       "      <td>25.0</td>\n",
       "    </tr>\n",
       "    <tr>\n",
       "      <th>3</th>\n",
       "      <td>16987194</td>\n",
       "      <td>07/01/2023 03:44:16 PM</td>\n",
       "      <td>07/02/2023 04:28:34 PM</td>\n",
       "      <td>07/02/2023 04:28:34 PM</td>\n",
       "      <td>Closed</td>\n",
       "      <td>Case Resolved - Pickup completed</td>\n",
       "      <td>Recology_Overflowing</td>\n",
       "      <td>Street and Sidewalk Cleaning</td>\n",
       "      <td>City_garbage_can_overflowing</td>\n",
       "      <td>City_garbage_can_overflowing</td>\n",
       "      <td>...</td>\n",
       "      <td>NaN</td>\n",
       "      <td>NaN</td>\n",
       "      <td>NaN</td>\n",
       "      <td>NaN</td>\n",
       "      <td>1.0</td>\n",
       "      <td>NaN</td>\n",
       "      <td>5.0</td>\n",
       "      <td>NaN</td>\n",
       "      <td>NaN</td>\n",
       "      <td>37.0</td>\n",
       "    </tr>\n",
       "    <tr>\n",
       "      <th>4</th>\n",
       "      <td>16987198</td>\n",
       "      <td>07/01/2023 03:45:00 PM</td>\n",
       "      <td>07/01/2023 05:17:21 PM</td>\n",
       "      <td>07/01/2023 05:17:21 PM</td>\n",
       "      <td>Closed</td>\n",
       "      <td>Case Resolved - Officer responded to request u...</td>\n",
       "      <td>Parking Enforcement Dispatch Queue</td>\n",
       "      <td>Parking Enforcement</td>\n",
       "      <td>Blocking_Driveway_Cite_Only</td>\n",
       "      <td>white - white -</td>\n",
       "      <td>...</td>\n",
       "      <td>NaN</td>\n",
       "      <td>NaN</td>\n",
       "      <td>NaN</td>\n",
       "      <td>NaN</td>\n",
       "      <td>2.0</td>\n",
       "      <td>NaN</td>\n",
       "      <td>NaN</td>\n",
       "      <td>NaN</td>\n",
       "      <td>NaN</td>\n",
       "      <td>86.0</td>\n",
       "    </tr>\n",
       "  </tbody>\n",
       "</table>\n",
       "<p>5 rows × 51 columns</p>\n",
       "</div>"
      ],
      "text/plain": [
       "     CaseID                  Opened                  Closed  \\\n",
       "0  16987193  07/01/2023 03:44:00 PM  07/04/2023 10:29:00 AM   \n",
       "1  16987195  07/01/2023 03:44:00 PM  07/02/2023 04:30:33 PM   \n",
       "2  16987192  07/01/2023 03:44:08 PM  07/02/2023 04:24:36 PM   \n",
       "3  16987194  07/01/2023 03:44:16 PM  07/02/2023 04:28:34 PM   \n",
       "4  16987198  07/01/2023 03:45:00 PM  07/01/2023 05:17:21 PM   \n",
       "\n",
       "                  Updated  Status  \\\n",
       "0  07/04/2023 10:29:00 AM  Closed   \n",
       "1  07/02/2023 04:30:33 PM  Closed   \n",
       "2  07/02/2023 04:24:36 PM  Closed   \n",
       "3  07/02/2023 04:28:34 PM  Closed   \n",
       "4  07/01/2023 05:17:21 PM  Closed   \n",
       "\n",
       "                                        Status Notes  \\\n",
       "0                                      Case Resolved   \n",
       "1                   Case Resolved - Pickup completed   \n",
       "2                   Case Resolved - Pickup completed   \n",
       "3                   Case Resolved - Pickup completed   \n",
       "4  Case Resolved - Officer responded to request u...   \n",
       "\n",
       "                   Responsible Agency                      Category  \\\n",
       "0                       DPW Ops Queue  Street and Sidewalk Cleaning   \n",
       "1                Recology_Overflowing  Street and Sidewalk Cleaning   \n",
       "2                Recology_Overflowing  Street and Sidewalk Cleaning   \n",
       "3                Recology_Overflowing  Street and Sidewalk Cleaning   \n",
       "4  Parking Enforcement Dispatch Queue           Parking Enforcement   \n",
       "\n",
       "                   Request Type               Request Details  ...  \\\n",
       "0                   Bulky Items         Boxed or Bagged Items  ...   \n",
       "1  City_garbage_can_overflowing  City_garbage_can_overflowing  ...   \n",
       "2  City_garbage_can_overflowing  City_garbage_can_overflowing  ...   \n",
       "3  City_garbage_can_overflowing  City_garbage_can_overflowing  ...   \n",
       "4   Blocking_Driveway_Cite_Only               white - white -  ...   \n",
       "\n",
       "  DELETE - HSOC Zones Fix It Zones as of 2018-02-07  \\\n",
       "0                 NaN                           NaN   \n",
       "1                 NaN                           NaN   \n",
       "2                 NaN                          25.0   \n",
       "3                 NaN                           NaN   \n",
       "4                 NaN                           NaN   \n",
       "\n",
       "   CBD, BID and GBD Boundaries as of 2017 Central Market/Tenderloin Boundary  \\\n",
       "0                                     NaN                                NaN   \n",
       "1                                     NaN                                NaN   \n",
       "2                                     NaN                                NaN   \n",
       "3                                     NaN                                NaN   \n",
       "4                                     NaN                                NaN   \n",
       "\n",
       "  Areas of Vulnerability, 2016  \\\n",
       "0                          1.0   \n",
       "1                          1.0   \n",
       "2                          1.0   \n",
       "3                          1.0   \n",
       "4                          2.0   \n",
       "\n",
       "   Central Market/Tenderloin Boundary Polygon - Updated  \\\n",
       "0                                                NaN      \n",
       "1                                                NaN      \n",
       "2                                                NaN      \n",
       "3                                                NaN      \n",
       "4                                                NaN      \n",
       "\n",
       "   HSOC Zones as of 2018-06-05 OWED Public Spaces  \\\n",
       "0                          NaN                NaN   \n",
       "1                          NaN                NaN   \n",
       "2                          NaN                NaN   \n",
       "3                          5.0                NaN   \n",
       "4                          NaN                NaN   \n",
       "\n",
       "  Parks Alliance CPSI (27+TL sites) Neighborhoods  \n",
       "0                               NaN         105.0  \n",
       "1                               NaN          84.0  \n",
       "2                               NaN          25.0  \n",
       "3                               NaN          37.0  \n",
       "4                               NaN          86.0  \n",
       "\n",
       "[5 rows x 51 columns]"
      ]
     },
     "execution_count": 25,
     "metadata": {},
     "output_type": "execute_result"
    }
   ],
   "source": [
    "# cols = [\n",
    "#         'service_request_id', 'requested_datetime', 'closed_date', 'updated_datetime', 'status_description', 'status_notes',\n",
    "#         'agency_responsible', 'service_name', 'service_subtype', 'service_details', 'address', 'street', 'supervisor_district',\n",
    "#         'neighborhoods_sffind_boundaries', 'police_district', 'lat', 'long', 'point', 'point_geom', 'source'\n",
    "#         ]\n",
    "\n",
    "# df = pd.read_csv(\"data/311_samples.csv\")\n",
    "# df"
   ]
  },
  {
   "cell_type": "code",
   "execution_count": null,
   "metadata": {},
   "outputs": [
    {
     "data": {
      "text/html": [
       "<div>\n",
       "<style scoped>\n",
       "    .dataframe tbody tr th:only-of-type {\n",
       "        vertical-align: middle;\n",
       "    }\n",
       "\n",
       "    .dataframe tbody tr th {\n",
       "        vertical-align: top;\n",
       "    }\n",
       "\n",
       "    .dataframe thead th {\n",
       "        text-align: right;\n",
       "    }\n",
       "</style>\n",
       "<table border=\"1\" class=\"dataframe\">\n",
       "  <thead>\n",
       "    <tr style=\"text-align: right;\">\n",
       "      <th></th>\n",
       "      <th>Source</th>\n",
       "      <th>Media URL</th>\n",
       "    </tr>\n",
       "  </thead>\n",
       "  <tbody>\n",
       "    <tr>\n",
       "      <th>0</th>\n",
       "      <td>Mobile/Open311</td>\n",
       "      <td>NaN</td>\n",
       "    </tr>\n",
       "    <tr>\n",
       "      <th>1</th>\n",
       "      <td>Mobile/Open311</td>\n",
       "      <td>NaN</td>\n",
       "    </tr>\n",
       "    <tr>\n",
       "      <th>2</th>\n",
       "      <td>Mobile/Open311</td>\n",
       "      <td>NaN</td>\n",
       "    </tr>\n",
       "    <tr>\n",
       "      <th>3</th>\n",
       "      <td>Mobile/Open311</td>\n",
       "      <td>NaN</td>\n",
       "    </tr>\n",
       "    <tr>\n",
       "      <th>4</th>\n",
       "      <td>Phone</td>\n",
       "      <td>NaN</td>\n",
       "    </tr>\n",
       "  </tbody>\n",
       "</table>\n",
       "</div>"
      ],
      "text/plain": [
       "           Source  Media URL\n",
       "0  Mobile/Open311        NaN\n",
       "1  Mobile/Open311        NaN\n",
       "2  Mobile/Open311        NaN\n",
       "3  Mobile/Open311        NaN\n",
       "4           Phone        NaN"
      ]
     },
     "execution_count": 29,
     "metadata": {},
     "output_type": "execute_result"
    }
   ],
   "source": [
    "# df[['Source', 'Media URL']]"
   ]
  },
  {
   "cell_type": "code",
   "execution_count": null,
   "metadata": {},
   "outputs": [
    {
     "data": {
      "text/plain": [
       "Index(['CaseID', 'Opened', 'Closed', 'Updated', 'Status', 'Status Notes',\n",
       "       'Responsible Agency', 'Category', 'Request Type', 'Request Details',\n",
       "       'Address', 'Street', 'Supervisor District', 'Neighborhood',\n",
       "       'Police District', 'Latitude', 'Longitude', 'Point', 'point_geom',\n",
       "       'Source', 'Media URL', 'BOS_2012', 'data_as_of', 'data_loaded_at',\n",
       "       'SF Find Neighborhoods', 'Current Police Districts',\n",
       "       'Current Supervisor Districts', 'Analysis Neighborhoods',\n",
       "       'DELETE - Supervisor Districts', 'DELETE - Fire Prevention Districts',\n",
       "       'DELETE - Current Police Districts', 'DELETE - Zip Codes',\n",
       "       'DELETE - Police Districts', 'DELETE - Neighborhoods',\n",
       "       'DELETE - Neighborhoods_from_fyvs_ahh9', 'DELETE - 2017 Fix It Zones',\n",
       "       'DELETE - SF Find Neighborhoods',\n",
       "       'Civic Center Harm Reduction Project Boundary',\n",
       "       'DELETE - Current Supervisor Districts',\n",
       "       'Fix It Zones as of 2017-11-06 ', 'Invest In Neighborhoods (IIN) Areas',\n",
       "       'DELETE - HSOC Zones', 'Fix It Zones as of 2018-02-07',\n",
       "       'CBD, BID and GBD Boundaries as of 2017',\n",
       "       'Central Market/Tenderloin Boundary', 'Areas of Vulnerability, 2016',\n",
       "       'Central Market/Tenderloin Boundary Polygon - Updated',\n",
       "       'HSOC Zones as of 2018-06-05', 'OWED Public Spaces',\n",
       "       'Parks Alliance CPSI (27+TL sites)', 'Neighborhoods'],\n",
       "      dtype='object')"
      ]
     },
     "execution_count": 21,
     "metadata": {},
     "output_type": "execute_result"
    }
   ],
   "source": [
    "# df.columns"
   ]
  },
  {
   "cell_type": "code",
   "execution_count": null,
   "metadata": {},
   "outputs": [],
   "source": [
    "# old_cols = [\n",
    "#     'CaseID', 'Opened', 'Closed', 'Updated', 'Status', 'Status Notes', 'Responsible Agency', 'Category', \n",
    "#     'Request Type', 'Request Details', 'Address', 'Street', 'Supervisor District', 'Neighborhood', \n",
    "#     'Police District', 'Latitude', 'Longitude', 'Point', 'point_geom', 'Source',\n",
    "#     ]"
   ]
  },
  {
   "cell_type": "code",
   "execution_count": null,
   "metadata": {},
   "outputs": [
    {
     "data": {
      "text/plain": [
       "(['CaseID',\n",
       "  'Opened',\n",
       "  'Closed',\n",
       "  'Updated',\n",
       "  'Status',\n",
       "  'Status Notes',\n",
       "  'Responsible Agency',\n",
       "  'Category',\n",
       "  'Request Type',\n",
       "  'Request Details',\n",
       "  'Address',\n",
       "  'Street',\n",
       "  'Supervisor District',\n",
       "  'Neighborhood',\n",
       "  'Police District',\n",
       "  'Latitude',\n",
       "  'Longitude',\n",
       "  'Point',\n",
       "  'point_geom',\n",
       "  'Source'],\n",
       " 20)"
      ]
     },
     "execution_count": 32,
     "metadata": {},
     "output_type": "execute_result"
    }
   ],
   "source": [
    "# old_cols, len(old_cols)"
   ]
  },
  {
   "cell_type": "code",
   "execution_count": null,
   "metadata": {},
   "outputs": [
    {
     "data": {
      "text/plain": [
       "(['service_request_id',\n",
       "  'requested_datetime',\n",
       "  'closed_date',\n",
       "  'updated_datetime',\n",
       "  'status_description',\n",
       "  'status_notes',\n",
       "  'agency_responsible',\n",
       "  'service_name',\n",
       "  'service_subtype',\n",
       "  'service_details',\n",
       "  'address',\n",
       "  'street',\n",
       "  'supervisor_district',\n",
       "  'neighborhoods_sffind_boundaries',\n",
       "  'police_district',\n",
       "  'lat',\n",
       "  'long',\n",
       "  'point',\n",
       "  'point_geom',\n",
       "  'source'],\n",
       " 20)"
      ]
     },
     "execution_count": 33,
     "metadata": {},
     "output_type": "execute_result"
    }
   ],
   "source": [
    "# cols, len(cols)"
   ]
  },
  {
   "cell_type": "code",
   "execution_count": null,
   "metadata": {},
   "outputs": [
    {
     "name": "stdout",
     "output_type": "stream",
     "text": [
      "old: CaseID, new: service_request_id\n",
      "old: Opened, new: requested_datetime\n",
      "old: Closed, new: closed_date\n",
      "old: Updated, new: updated_datetime\n",
      "old: Status, new: status_description\n",
      "old: Status Notes, new: status_notes\n",
      "old: Responsible Agency, new: agency_responsible\n",
      "old: Category, new: service_name\n",
      "old: Request Type, new: service_subtype\n",
      "old: Request Details, new: service_details\n",
      "old: Address, new: address\n",
      "old: Street, new: street\n",
      "old: Supervisor District, new: supervisor_district\n",
      "old: Neighborhood, new: neighborhoods_sffind_boundaries\n",
      "old: Police District, new: police_district\n",
      "old: Latitude, new: lat\n",
      "old: Longitude, new: long\n",
      "old: Point, new: point\n",
      "old: point_geom, new: point_geom\n",
      "old: Source, new: source\n"
     ]
    }
   ],
   "source": [
    "# for o, n in zip(old_cols, cols):\n",
    "#     print(f\"old: {o}, new: {n}\")"
   ]
  },
  {
   "cell_type": "code",
   "execution_count": null,
   "metadata": {},
   "outputs": [
    {
     "data": {
      "text/html": [
       "<div>\n",
       "<style scoped>\n",
       "    .dataframe tbody tr th:only-of-type {\n",
       "        vertical-align: middle;\n",
       "    }\n",
       "\n",
       "    .dataframe tbody tr th {\n",
       "        vertical-align: top;\n",
       "    }\n",
       "\n",
       "    .dataframe thead th {\n",
       "        text-align: right;\n",
       "    }\n",
       "</style>\n",
       "<table border=\"1\" class=\"dataframe\">\n",
       "  <thead>\n",
       "    <tr style=\"text-align: right;\">\n",
       "      <th></th>\n",
       "      <th>service_request_id</th>\n",
       "      <th>requested_datetime</th>\n",
       "      <th>closed_date</th>\n",
       "      <th>updated_datetime</th>\n",
       "      <th>status_description</th>\n",
       "      <th>status_notes</th>\n",
       "      <th>agency_responsible</th>\n",
       "      <th>service_name</th>\n",
       "      <th>service_subtype</th>\n",
       "      <th>service_details</th>\n",
       "      <th>...</th>\n",
       "      <th>DELETE - HSOC Zones</th>\n",
       "      <th>Fix It Zones as of 2018-02-07</th>\n",
       "      <th>CBD, BID and GBD Boundaries as of 2017</th>\n",
       "      <th>Central Market/Tenderloin Boundary</th>\n",
       "      <th>Areas of Vulnerability, 2016</th>\n",
       "      <th>Central Market/Tenderloin Boundary Polygon - Updated</th>\n",
       "      <th>HSOC Zones as of 2018-06-05</th>\n",
       "      <th>OWED Public Spaces</th>\n",
       "      <th>Parks Alliance CPSI (27+TL sites)</th>\n",
       "      <th>Neighborhoods</th>\n",
       "    </tr>\n",
       "  </thead>\n",
       "  <tbody>\n",
       "    <tr>\n",
       "      <th>0</th>\n",
       "      <td>16987193</td>\n",
       "      <td>07/01/2023 03:44:00 PM</td>\n",
       "      <td>07/04/2023 10:29:00 AM</td>\n",
       "      <td>07/04/2023 10:29:00 AM</td>\n",
       "      <td>Closed</td>\n",
       "      <td>Case Resolved</td>\n",
       "      <td>DPW Ops Queue</td>\n",
       "      <td>Street and Sidewalk Cleaning</td>\n",
       "      <td>Bulky Items</td>\n",
       "      <td>Boxed or Bagged Items</td>\n",
       "      <td>...</td>\n",
       "      <td>NaN</td>\n",
       "      <td>NaN</td>\n",
       "      <td>NaN</td>\n",
       "      <td>NaN</td>\n",
       "      <td>1.0</td>\n",
       "      <td>NaN</td>\n",
       "      <td>NaN</td>\n",
       "      <td>NaN</td>\n",
       "      <td>NaN</td>\n",
       "      <td>105.0</td>\n",
       "    </tr>\n",
       "    <tr>\n",
       "      <th>1</th>\n",
       "      <td>16987195</td>\n",
       "      <td>07/01/2023 03:44:00 PM</td>\n",
       "      <td>07/02/2023 04:30:33 PM</td>\n",
       "      <td>07/02/2023 04:30:33 PM</td>\n",
       "      <td>Closed</td>\n",
       "      <td>Case Resolved - Pickup completed</td>\n",
       "      <td>Recology_Overflowing</td>\n",
       "      <td>Street and Sidewalk Cleaning</td>\n",
       "      <td>City_garbage_can_overflowing</td>\n",
       "      <td>City_garbage_can_overflowing</td>\n",
       "      <td>...</td>\n",
       "      <td>NaN</td>\n",
       "      <td>NaN</td>\n",
       "      <td>NaN</td>\n",
       "      <td>NaN</td>\n",
       "      <td>1.0</td>\n",
       "      <td>NaN</td>\n",
       "      <td>NaN</td>\n",
       "      <td>NaN</td>\n",
       "      <td>NaN</td>\n",
       "      <td>84.0</td>\n",
       "    </tr>\n",
       "    <tr>\n",
       "      <th>2</th>\n",
       "      <td>16987192</td>\n",
       "      <td>07/01/2023 03:44:08 PM</td>\n",
       "      <td>07/02/2023 04:24:36 PM</td>\n",
       "      <td>07/02/2023 04:24:36 PM</td>\n",
       "      <td>Closed</td>\n",
       "      <td>Case Resolved - Pickup completed</td>\n",
       "      <td>Recology_Overflowing</td>\n",
       "      <td>Street and Sidewalk Cleaning</td>\n",
       "      <td>City_garbage_can_overflowing</td>\n",
       "      <td>City_garbage_can_overflowing</td>\n",
       "      <td>...</td>\n",
       "      <td>NaN</td>\n",
       "      <td>25.0</td>\n",
       "      <td>NaN</td>\n",
       "      <td>NaN</td>\n",
       "      <td>1.0</td>\n",
       "      <td>NaN</td>\n",
       "      <td>NaN</td>\n",
       "      <td>NaN</td>\n",
       "      <td>NaN</td>\n",
       "      <td>25.0</td>\n",
       "    </tr>\n",
       "    <tr>\n",
       "      <th>3</th>\n",
       "      <td>16987194</td>\n",
       "      <td>07/01/2023 03:44:16 PM</td>\n",
       "      <td>07/02/2023 04:28:34 PM</td>\n",
       "      <td>07/02/2023 04:28:34 PM</td>\n",
       "      <td>Closed</td>\n",
       "      <td>Case Resolved - Pickup completed</td>\n",
       "      <td>Recology_Overflowing</td>\n",
       "      <td>Street and Sidewalk Cleaning</td>\n",
       "      <td>City_garbage_can_overflowing</td>\n",
       "      <td>City_garbage_can_overflowing</td>\n",
       "      <td>...</td>\n",
       "      <td>NaN</td>\n",
       "      <td>NaN</td>\n",
       "      <td>NaN</td>\n",
       "      <td>NaN</td>\n",
       "      <td>1.0</td>\n",
       "      <td>NaN</td>\n",
       "      <td>5.0</td>\n",
       "      <td>NaN</td>\n",
       "      <td>NaN</td>\n",
       "      <td>37.0</td>\n",
       "    </tr>\n",
       "    <tr>\n",
       "      <th>4</th>\n",
       "      <td>16987198</td>\n",
       "      <td>07/01/2023 03:45:00 PM</td>\n",
       "      <td>07/01/2023 05:17:21 PM</td>\n",
       "      <td>07/01/2023 05:17:21 PM</td>\n",
       "      <td>Closed</td>\n",
       "      <td>Case Resolved - Officer responded to request u...</td>\n",
       "      <td>Parking Enforcement Dispatch Queue</td>\n",
       "      <td>Parking Enforcement</td>\n",
       "      <td>Blocking_Driveway_Cite_Only</td>\n",
       "      <td>white - white -</td>\n",
       "      <td>...</td>\n",
       "      <td>NaN</td>\n",
       "      <td>NaN</td>\n",
       "      <td>NaN</td>\n",
       "      <td>NaN</td>\n",
       "      <td>2.0</td>\n",
       "      <td>NaN</td>\n",
       "      <td>NaN</td>\n",
       "      <td>NaN</td>\n",
       "      <td>NaN</td>\n",
       "      <td>86.0</td>\n",
       "    </tr>\n",
       "  </tbody>\n",
       "</table>\n",
       "<p>5 rows × 51 columns</p>\n",
       "</div>"
      ],
      "text/plain": [
       "   service_request_id      requested_datetime             closed_date  \\\n",
       "0            16987193  07/01/2023 03:44:00 PM  07/04/2023 10:29:00 AM   \n",
       "1            16987195  07/01/2023 03:44:00 PM  07/02/2023 04:30:33 PM   \n",
       "2            16987192  07/01/2023 03:44:08 PM  07/02/2023 04:24:36 PM   \n",
       "3            16987194  07/01/2023 03:44:16 PM  07/02/2023 04:28:34 PM   \n",
       "4            16987198  07/01/2023 03:45:00 PM  07/01/2023 05:17:21 PM   \n",
       "\n",
       "         updated_datetime status_description  \\\n",
       "0  07/04/2023 10:29:00 AM             Closed   \n",
       "1  07/02/2023 04:30:33 PM             Closed   \n",
       "2  07/02/2023 04:24:36 PM             Closed   \n",
       "3  07/02/2023 04:28:34 PM             Closed   \n",
       "4  07/01/2023 05:17:21 PM             Closed   \n",
       "\n",
       "                                        status_notes  \\\n",
       "0                                      Case Resolved   \n",
       "1                   Case Resolved - Pickup completed   \n",
       "2                   Case Resolved - Pickup completed   \n",
       "3                   Case Resolved - Pickup completed   \n",
       "4  Case Resolved - Officer responded to request u...   \n",
       "\n",
       "                   agency_responsible                  service_name  \\\n",
       "0                       DPW Ops Queue  Street and Sidewalk Cleaning   \n",
       "1                Recology_Overflowing  Street and Sidewalk Cleaning   \n",
       "2                Recology_Overflowing  Street and Sidewalk Cleaning   \n",
       "3                Recology_Overflowing  Street and Sidewalk Cleaning   \n",
       "4  Parking Enforcement Dispatch Queue           Parking Enforcement   \n",
       "\n",
       "                service_subtype               service_details  ...  \\\n",
       "0                   Bulky Items         Boxed or Bagged Items  ...   \n",
       "1  City_garbage_can_overflowing  City_garbage_can_overflowing  ...   \n",
       "2  City_garbage_can_overflowing  City_garbage_can_overflowing  ...   \n",
       "3  City_garbage_can_overflowing  City_garbage_can_overflowing  ...   \n",
       "4   Blocking_Driveway_Cite_Only               white - white -  ...   \n",
       "\n",
       "  DELETE - HSOC Zones Fix It Zones as of 2018-02-07  \\\n",
       "0                 NaN                           NaN   \n",
       "1                 NaN                           NaN   \n",
       "2                 NaN                          25.0   \n",
       "3                 NaN                           NaN   \n",
       "4                 NaN                           NaN   \n",
       "\n",
       "   CBD, BID and GBD Boundaries as of 2017 Central Market/Tenderloin Boundary  \\\n",
       "0                                     NaN                                NaN   \n",
       "1                                     NaN                                NaN   \n",
       "2                                     NaN                                NaN   \n",
       "3                                     NaN                                NaN   \n",
       "4                                     NaN                                NaN   \n",
       "\n",
       "  Areas of Vulnerability, 2016  \\\n",
       "0                          1.0   \n",
       "1                          1.0   \n",
       "2                          1.0   \n",
       "3                          1.0   \n",
       "4                          2.0   \n",
       "\n",
       "   Central Market/Tenderloin Boundary Polygon - Updated  \\\n",
       "0                                                NaN      \n",
       "1                                                NaN      \n",
       "2                                                NaN      \n",
       "3                                                NaN      \n",
       "4                                                NaN      \n",
       "\n",
       "   HSOC Zones as of 2018-06-05 OWED Public Spaces  \\\n",
       "0                          NaN                NaN   \n",
       "1                          NaN                NaN   \n",
       "2                          NaN                NaN   \n",
       "3                          5.0                NaN   \n",
       "4                          NaN                NaN   \n",
       "\n",
       "  Parks Alliance CPSI (27+TL sites) Neighborhoods  \n",
       "0                               NaN         105.0  \n",
       "1                               NaN          84.0  \n",
       "2                               NaN          25.0  \n",
       "3                               NaN          37.0  \n",
       "4                               NaN          86.0  \n",
       "\n",
       "[5 rows x 51 columns]"
      ]
     },
     "execution_count": 36,
     "metadata": {},
     "output_type": "execute_result"
    }
   ],
   "source": [
    "# # Create a dictionary to map old column names to new column names\n",
    "# rename_dict = dict(zip(old_cols, cols))\n",
    "\n",
    "# # Rename the columns in the DataFrame\n",
    "# df.rename(columns=rename_dict, inplace=True)\n",
    "\n",
    "# # Output the renamed DataFrame\n",
    "# df"
   ]
  },
  {
   "cell_type": "code",
   "execution_count": null,
   "metadata": {},
   "outputs": [],
   "source": [
    "# df[cols].to_csv(\"data/311_samples.csv\", index=False)"
   ]
  },
  {
   "cell_type": "code",
   "execution_count": 35,
   "metadata": {},
   "outputs": [],
   "source": [
    "df = pd.read_csv(\"data/311_samples.csv\").drop(['point','point_geom'], axis=1)\n",
    "df.to_csv(\"data/311_samples.csv\", index=False)"
   ]
  },
  {
   "cell_type": "code",
   "execution_count": 36,
   "metadata": {},
   "outputs": [
    {
     "data": {
      "text/html": [
       "<div>\n",
       "<style scoped>\n",
       "    .dataframe tbody tr th:only-of-type {\n",
       "        vertical-align: middle;\n",
       "    }\n",
       "\n",
       "    .dataframe tbody tr th {\n",
       "        vertical-align: top;\n",
       "    }\n",
       "\n",
       "    .dataframe thead th {\n",
       "        text-align: right;\n",
       "    }\n",
       "</style>\n",
       "<table border=\"1\" class=\"dataframe\">\n",
       "  <thead>\n",
       "    <tr style=\"text-align: right;\">\n",
       "      <th></th>\n",
       "      <th>service_request_id</th>\n",
       "      <th>requested_datetime</th>\n",
       "      <th>closed_date</th>\n",
       "      <th>updated_datetime</th>\n",
       "      <th>status_description</th>\n",
       "      <th>status_notes</th>\n",
       "      <th>agency_responsible</th>\n",
       "      <th>service_name</th>\n",
       "      <th>service_subtype</th>\n",
       "      <th>service_details</th>\n",
       "      <th>address</th>\n",
       "      <th>street</th>\n",
       "      <th>supervisor_district</th>\n",
       "      <th>neighborhoods_sffind_boundaries</th>\n",
       "      <th>police_district</th>\n",
       "      <th>lat</th>\n",
       "      <th>long</th>\n",
       "      <th>source</th>\n",
       "    </tr>\n",
       "  </thead>\n",
       "  <tbody>\n",
       "    <tr>\n",
       "      <th>0</th>\n",
       "      <td>16987193</td>\n",
       "      <td>07/01/2023 03:44:00 PM</td>\n",
       "      <td>07/04/2023 10:29:00 AM</td>\n",
       "      <td>07/04/2023 10:29:00 AM</td>\n",
       "      <td>Closed</td>\n",
       "      <td>Case Resolved</td>\n",
       "      <td>DPW Ops Queue</td>\n",
       "      <td>Street and Sidewalk Cleaning</td>\n",
       "      <td>Bulky Items</td>\n",
       "      <td>Boxed or Bagged Items</td>\n",
       "      <td>1507 VALLEJO ST, SAN FRANCISCO, CA, 94109</td>\n",
       "      <td>VALLEJO ST</td>\n",
       "      <td>3.0</td>\n",
       "      <td>Polk Gulch</td>\n",
       "      <td>NORTHERN</td>\n",
       "      <td>37.796779</td>\n",
       "      <td>-122.422252</td>\n",
       "      <td>Mobile/Open311</td>\n",
       "    </tr>\n",
       "    <tr>\n",
       "      <th>1</th>\n",
       "      <td>16987195</td>\n",
       "      <td>07/01/2023 03:44:00 PM</td>\n",
       "      <td>07/02/2023 04:30:33 PM</td>\n",
       "      <td>07/02/2023 04:30:33 PM</td>\n",
       "      <td>Closed</td>\n",
       "      <td>Case Resolved - Pickup completed</td>\n",
       "      <td>Recology_Overflowing</td>\n",
       "      <td>Street and Sidewalk Cleaning</td>\n",
       "      <td>City_garbage_can_overflowing</td>\n",
       "      <td>City_garbage_can_overflowing</td>\n",
       "      <td>4125 25TH ST, SAN FRANCISCO, CA, 94114 (Virtual)</td>\n",
       "      <td>25TH ST</td>\n",
       "      <td>8.0</td>\n",
       "      <td>Noe Valley</td>\n",
       "      <td>MISSION</td>\n",
       "      <td>37.749757</td>\n",
       "      <td>-122.432339</td>\n",
       "      <td>Mobile/Open311</td>\n",
       "    </tr>\n",
       "    <tr>\n",
       "      <th>2</th>\n",
       "      <td>16987192</td>\n",
       "      <td>07/01/2023 03:44:08 PM</td>\n",
       "      <td>07/02/2023 04:24:36 PM</td>\n",
       "      <td>07/02/2023 04:24:36 PM</td>\n",
       "      <td>Closed</td>\n",
       "      <td>Case Resolved - Pickup completed</td>\n",
       "      <td>Recology_Overflowing</td>\n",
       "      <td>Street and Sidewalk Cleaning</td>\n",
       "      <td>City_garbage_can_overflowing</td>\n",
       "      <td>City_garbage_can_overflowing</td>\n",
       "      <td>1603 HAIGHT ST, SAN FRANCISCO, CA, 94117</td>\n",
       "      <td>HAIGHT ST</td>\n",
       "      <td>5.0</td>\n",
       "      <td>Haight Ashbury</td>\n",
       "      <td>PARK</td>\n",
       "      <td>37.769687</td>\n",
       "      <td>-122.448837</td>\n",
       "      <td>Mobile/Open311</td>\n",
       "    </tr>\n",
       "    <tr>\n",
       "      <th>3</th>\n",
       "      <td>16987194</td>\n",
       "      <td>07/01/2023 03:44:16 PM</td>\n",
       "      <td>07/02/2023 04:28:34 PM</td>\n",
       "      <td>07/02/2023 04:28:34 PM</td>\n",
       "      <td>Closed</td>\n",
       "      <td>Case Resolved - Pickup completed</td>\n",
       "      <td>Recology_Overflowing</td>\n",
       "      <td>Street and Sidewalk Cleaning</td>\n",
       "      <td>City_garbage_can_overflowing</td>\n",
       "      <td>City_garbage_can_overflowing</td>\n",
       "      <td>1905 15TH ST, SAN FRANCISCO, CA, 94114</td>\n",
       "      <td>15TH ST</td>\n",
       "      <td>8.0</td>\n",
       "      <td>Mission Dolores</td>\n",
       "      <td>MISSION</td>\n",
       "      <td>37.766188</td>\n",
       "      <td>-122.426708</td>\n",
       "      <td>Mobile/Open311</td>\n",
       "    </tr>\n",
       "    <tr>\n",
       "      <th>4</th>\n",
       "      <td>16987198</td>\n",
       "      <td>07/01/2023 03:45:00 PM</td>\n",
       "      <td>07/01/2023 05:17:21 PM</td>\n",
       "      <td>07/01/2023 05:17:21 PM</td>\n",
       "      <td>Closed</td>\n",
       "      <td>Case Resolved - Officer responded to request u...</td>\n",
       "      <td>Parking Enforcement Dispatch Queue</td>\n",
       "      <td>Parking Enforcement</td>\n",
       "      <td>Blocking_Driveway_Cite_Only</td>\n",
       "      <td>white - white -</td>\n",
       "      <td>1119 MENDELL ST, SAN FRANCISCO, CA, 94124</td>\n",
       "      <td>MENDELL ST</td>\n",
       "      <td>10.0</td>\n",
       "      <td>Bayview</td>\n",
       "      <td>BAYVIEW</td>\n",
       "      <td>37.736130</td>\n",
       "      <td>-122.388788</td>\n",
       "      <td>Phone</td>\n",
       "    </tr>\n",
       "  </tbody>\n",
       "</table>\n",
       "</div>"
      ],
      "text/plain": [
       "   service_request_id      requested_datetime             closed_date  \\\n",
       "0            16987193  07/01/2023 03:44:00 PM  07/04/2023 10:29:00 AM   \n",
       "1            16987195  07/01/2023 03:44:00 PM  07/02/2023 04:30:33 PM   \n",
       "2            16987192  07/01/2023 03:44:08 PM  07/02/2023 04:24:36 PM   \n",
       "3            16987194  07/01/2023 03:44:16 PM  07/02/2023 04:28:34 PM   \n",
       "4            16987198  07/01/2023 03:45:00 PM  07/01/2023 05:17:21 PM   \n",
       "\n",
       "         updated_datetime status_description  \\\n",
       "0  07/04/2023 10:29:00 AM             Closed   \n",
       "1  07/02/2023 04:30:33 PM             Closed   \n",
       "2  07/02/2023 04:24:36 PM             Closed   \n",
       "3  07/02/2023 04:28:34 PM             Closed   \n",
       "4  07/01/2023 05:17:21 PM             Closed   \n",
       "\n",
       "                                        status_notes  \\\n",
       "0                                      Case Resolved   \n",
       "1                   Case Resolved - Pickup completed   \n",
       "2                   Case Resolved - Pickup completed   \n",
       "3                   Case Resolved - Pickup completed   \n",
       "4  Case Resolved - Officer responded to request u...   \n",
       "\n",
       "                   agency_responsible                  service_name  \\\n",
       "0                       DPW Ops Queue  Street and Sidewalk Cleaning   \n",
       "1                Recology_Overflowing  Street and Sidewalk Cleaning   \n",
       "2                Recology_Overflowing  Street and Sidewalk Cleaning   \n",
       "3                Recology_Overflowing  Street and Sidewalk Cleaning   \n",
       "4  Parking Enforcement Dispatch Queue           Parking Enforcement   \n",
       "\n",
       "                service_subtype               service_details  \\\n",
       "0                   Bulky Items         Boxed or Bagged Items   \n",
       "1  City_garbage_can_overflowing  City_garbage_can_overflowing   \n",
       "2  City_garbage_can_overflowing  City_garbage_can_overflowing   \n",
       "3  City_garbage_can_overflowing  City_garbage_can_overflowing   \n",
       "4   Blocking_Driveway_Cite_Only               white - white -   \n",
       "\n",
       "                                            address      street  \\\n",
       "0         1507 VALLEJO ST, SAN FRANCISCO, CA, 94109  VALLEJO ST   \n",
       "1  4125 25TH ST, SAN FRANCISCO, CA, 94114 (Virtual)     25TH ST   \n",
       "2          1603 HAIGHT ST, SAN FRANCISCO, CA, 94117   HAIGHT ST   \n",
       "3            1905 15TH ST, SAN FRANCISCO, CA, 94114     15TH ST   \n",
       "4         1119 MENDELL ST, SAN FRANCISCO, CA, 94124  MENDELL ST   \n",
       "\n",
       "   supervisor_district neighborhoods_sffind_boundaries police_district  \\\n",
       "0                  3.0                      Polk Gulch        NORTHERN   \n",
       "1                  8.0                      Noe Valley         MISSION   \n",
       "2                  5.0                  Haight Ashbury            PARK   \n",
       "3                  8.0                 Mission Dolores         MISSION   \n",
       "4                 10.0                         Bayview         BAYVIEW   \n",
       "\n",
       "         lat        long          source  \n",
       "0  37.796779 -122.422252  Mobile/Open311  \n",
       "1  37.749757 -122.432339  Mobile/Open311  \n",
       "2  37.769687 -122.448837  Mobile/Open311  \n",
       "3  37.766188 -122.426708  Mobile/Open311  \n",
       "4  37.736130 -122.388788           Phone  "
      ]
     },
     "execution_count": 36,
     "metadata": {},
     "output_type": "execute_result"
    }
   ],
   "source": [
    "df"
   ]
  },
  {
   "cell_type": "code",
   "execution_count": null,
   "metadata": {},
   "outputs": [],
   "source": []
  }
 ],
 "metadata": {
  "kernelspec": {
   "display_name": "Python 3",
   "language": "python",
   "name": "python3"
  },
  "language_info": {
   "codemirror_mode": {
    "name": "ipython",
    "version": 3
   },
   "file_extension": ".py",
   "mimetype": "text/x-python",
   "name": "python",
   "nbconvert_exporter": "python",
   "pygments_lexer": "ipython3",
   "version": "3.10.10"
  }
 },
 "nbformat": 4,
 "nbformat_minor": 2
}
